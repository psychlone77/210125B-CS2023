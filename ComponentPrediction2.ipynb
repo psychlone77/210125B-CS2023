{
  "nbformat": 4,
  "nbformat_minor": 0,
  "metadata": {
    "colab": {
      "provenance": [],
      "gpuType": "T4",
      "mount_file_id": "1C2DoACSoKob22xbJ4VQ5cuxFX74CxmKJ",
      "authorship_tag": "ABX9TyNLKM3HZ3DernacD8MCY+e4",
      "include_colab_link": true
    },
    "kernelspec": {
      "name": "python3",
      "display_name": "Python 3"
    },
    "language_info": {
      "name": "python"
    },
    "accelerator": "GPU"
  },
  "cells": [
    {
      "cell_type": "markdown",
      "metadata": {
        "id": "view-in-github",
        "colab_type": "text"
      },
      "source": [
        "<a href=\"https://colab.research.google.com/github/psychlone77/210125B-CS2023/blob/main/ComponentPrediction2.ipynb\" target=\"_parent\"><img src=\"https://colab.research.google.com/assets/colab-badge.svg\" alt=\"Open In Colab\"/></a>"
      ]
    },
    {
      "cell_type": "markdown",
      "source": [
        "# Parameters/Variables"
      ],
      "metadata": {
        "id": "X5xX41ucavoR"
      }
    },
    {
      "cell_type": "code",
      "source": [
        "RETRAIN = True\n",
        "FILE_PATH_STRING = \"/content/drive/My Drive/Colab Notebooks/final_ann.json\"\n",
        "MODEL_PATH_STRING = \"/content/drive/My Drive/Colab Notebooks/models\"\n",
        "MODEL_NAME = \"predictor_component\"\n",
        "type_mapping = {\n",
        "  'anchor': 0,\n",
        "  'shackle': 1,\n",
        "  'chain': 2,\n",
        "  'ring': 3,\n",
        "  'rope': 4,\n",
        "  'flexiLink': 5,\n",
        "  'trawlFloat': 6,\n",
        "  'eyebolt': 7,\n",
        "  'cornerPlate': 8,\n",
        "  'koblPlate': 9,\n",
        "  'bouy': 10,\n",
        "  'concreteBlock': 11,\n",
        "  'bouyLight': 12,\n",
        "}\n",
        "#101cp check 5\n",
        "type_mapping_reverse = {v: k for k, v in type_mapping.items()}\n",
        "extracted_data = []"
      ],
      "metadata": {
        "id": "EebJ-xwNa2c4"
      },
      "execution_count": 168,
      "outputs": []
    },
    {
      "cell_type": "markdown",
      "source": [
        "# Hyper-Parameters"
      ],
      "metadata": {
        "id": "uVqqY90vpl1D"
      }
    },
    {
      "cell_type": "code",
      "source": [
        "EMBED_DIM = 80 # Check on how to optimize this, maybe use different dims for type and locations\n",
        "NUM_LAYERS = 4\n",
        "NUM_HEADS = 8\n",
        "MAX_SEQ_LEN = 50\n",
        "DROPOUT = 0.001\n",
        "NUM_COMPONENT_TYPES = len(type_mapping)\n",
        "BATCH_SIZE = 2\n",
        "USE_TEACHER_FORCING = False\n",
        "LEARNING_RATE = 0.001\n",
        "EPOCHS = 100"
      ],
      "metadata": {
        "id": "_d4sqDCCpoa7"
      },
      "execution_count": 169,
      "outputs": []
    },
    {
      "cell_type": "markdown",
      "source": [
        "# Helper Functions"
      ],
      "metadata": {
        "id": "EdzckWzApiiT"
      }
    },
    {
      "cell_type": "code",
      "source": [
        "import pprint\n",
        "\n",
        "def pretty_print(d):\n",
        "  pprint.pprint(d, sort_dicts=False)"
      ],
      "metadata": {
        "id": "tc4_6sRWszWa"
      },
      "execution_count": 170,
      "outputs": []
    },
    {
      "cell_type": "code",
      "source": [
        "from pathlib import Path\n",
        "from google.colab import drive\n",
        "\n",
        "model_path = Path(MODEL_PATH_STRING)\n",
        "model_save_path = model_path / MODEL_NAME\n",
        "\n",
        "def save_model(model):\n",
        "  model_path.mkdir(parents=True, exist_ok=True)\n",
        "  torch.save(obj=model.state_dict(), f=model_save_path)\n",
        "\n",
        "def load_model(model):\n",
        "  model.load_state_dict(torch.load(f=model_save_path))"
      ],
      "metadata": {
        "id": "Ppz8jfZbi3ep"
      },
      "execution_count": 171,
      "outputs": []
    },
    {
      "cell_type": "markdown",
      "source": [
        "# JSON Data Loading"
      ],
      "metadata": {
        "id": "r2seAONkdIAX"
      }
    },
    {
      "cell_type": "code",
      "execution_count": 172,
      "metadata": {
        "colab": {
          "base_uri": "https://localhost:8080/"
        },
        "id": "p8JwYpOhZjNX",
        "outputId": "4af3b405-9a36-4976-d5c1-56b57cbfbc21"
      },
      "outputs": [
        {
          "output_type": "stream",
          "name": "stdout",
          "text": [
            "{'types': [0, 1, 2, 1, 2, 1, 2, 1, 2, 1, 2, 1, 3, 4, 5, 6],\n",
            " 'locations': [(3.5928754366897757, -74.86703130761232),\n",
            "               (15.944956846555765, -74.59566353410342),\n",
            "               (17.40470641701521, -75.22821591404902),\n",
            "               (21.50323405715102, -75.30728496154208),\n",
            "               (23.58056998434318, -76.01890638898075),\n",
            "               (27.735241838727458, -76.25611353146027),\n",
            "               (29.531856694677415, -76.65145876892616),\n",
            "               (33.967249620303875, -76.57238972143297),\n",
            "               (36.156873975992845, -76.09797543647386),\n",
            "               (40.704555330116214, -74.99100877156947),\n",
            "               (42.61345861456287, -73.48869686919912),\n",
            "               (46.69991532407503, -72.70937869225544),\n",
            "               (47.92992700050125, -72.12118613102565),\n",
            "               (49.465298937534435, -71.00136444687516),\n",
            "               (76.16867318364984, -57.229774499901),\n",
            "               (60.56861970855114, -54.338346865319686)]}\n"
          ]
        }
      ],
      "source": [
        "from pathlib import Path\n",
        "from google.colab import drive\n",
        "import json\n",
        "\n",
        "FILE_PATH = Path(FILE_PATH_STRING)\n",
        "\n",
        "try:\n",
        "    with open(FILE_PATH, 'r') as f:\n",
        "        data = json.load(f)\n",
        "\n",
        "except FileNotFoundError:\n",
        "    print(f\"Error: File not found at {FILE_PATH}\")\n",
        "except json.JSONDecodeError:\n",
        "    print(f\"Error: Invalid JSON format in {FILE_PATH}\")\n",
        "except Exception as e:\n",
        "    print(f\"An unexpected error occurred: {e}\")\n",
        "\n",
        "for template in data:\n",
        "  types = []\n",
        "  locations = []\n",
        "  # print(template['annotations'][0]['result'])\n",
        "  for component in template['annotations'][0]['result']:\n",
        "    useful_data = component['value']\n",
        "    label = useful_data['rectanglelabels'][0]\n",
        "    x = useful_data['x']\n",
        "    y = -useful_data['y']\n",
        "    types.append(type_mapping[label])\n",
        "    locations.append((x, y))\n",
        "  extracted_data.append({'types': types, 'locations': locations})\n",
        "\n",
        "pretty_print(extracted_data[0])"
      ]
    },
    {
      "cell_type": "code",
      "source": [
        "# Test here with extracted data\n",
        "import torch\n",
        "sample = extracted_data[0]\n",
        "types = torch.tensor(sample['types'], dtype=torch.uint8)\n",
        "locations = torch.tensor(sample['locations'], dtype=torch.float16)\n",
        "pretty_print({'types': types, 'locations': locations})"
      ],
      "metadata": {
        "colab": {
          "base_uri": "https://localhost:8080/"
        },
        "id": "DclxNjnKrI-z",
        "outputId": "314ab89e-806d-4ef9-ca4e-3d306175a921"
      },
      "execution_count": 173,
      "outputs": [
        {
          "output_type": "stream",
          "name": "stdout",
          "text": [
            "{'types': tensor([0, 1, 2, 1, 2, 1, 2, 1, 2, 1, 2, 1, 3, 4, 5, 6], dtype=torch.uint8),\n",
            " 'locations': tensor([[  3.5938, -74.8750],\n",
            "        [ 15.9453, -74.6250],\n",
            "        [ 17.4062, -75.2500],\n",
            "        [ 21.5000, -75.3125],\n",
            "        [ 23.5781, -76.0000],\n",
            "        [ 27.7344, -76.2500],\n",
            "        [ 29.5312, -76.6250],\n",
            "        [ 33.9688, -76.5625],\n",
            "        [ 36.1562, -76.1250],\n",
            "        [ 40.7188, -75.0000],\n",
            "        [ 42.6250, -73.5000],\n",
            "        [ 46.6875, -72.6875],\n",
            "        [ 47.9375, -72.1250],\n",
            "        [ 49.4688, -71.0000],\n",
            "        [ 76.1875, -57.2188],\n",
            "        [ 60.5625, -54.3438]], dtype=torch.float16)}\n"
          ]
        }
      ]
    },
    {
      "cell_type": "markdown",
      "source": [
        "# Dataset Class"
      ],
      "metadata": {
        "id": "L4SGqmYtpTO5"
      }
    },
    {
      "cell_type": "code",
      "source": [
        "import torch\n",
        "from torch.utils.data import Dataset\n",
        "\n",
        "class CustomDataset(Dataset):\n",
        "    def __init__(self, data):\n",
        "        \"\"\"\n",
        "        data: list of samples. Each sample is a dict with:\n",
        "          - \"types\": list of ints representing component types.\n",
        "          - \"locations\": list of tuples (x, y) for each component.\n",
        "        \"\"\"\n",
        "        self.data = data\n",
        "\n",
        "    def __len__(self):\n",
        "        return len(self.data)\n",
        "\n",
        "    def __getitem__(self, idx):\n",
        "        sample = self.data[idx]\n",
        "        types = torch.tensor(sample['types'], dtype=torch.uint8)\n",
        "        locations = torch.tensor(sample['locations'], dtype=torch.float16)\n",
        "        return {'types': types, 'locations': locations}\n",
        "\n",
        "def collate_fn(batch):\n",
        "    # Pad sequences to the same length in a batch.\n",
        "    batch_types = [item['types'] for item in batch]\n",
        "    batch_locations = [item['locations'] for item in batch]\n",
        "    seq_lengths = [len(x) for x in batch_types]\n",
        "    max_len = max(seq_lengths)\n",
        "    padded_types = torch.zeros(len(batch), max_len, dtype=torch.long)\n",
        "    padded_locations = torch.zeros(len(batch), max_len, 2, dtype=torch.float)\n",
        "    mask = torch.zeros(len(batch), max_len, dtype=torch.bool)\n",
        "    for i, (types, locs) in enumerate(zip(batch_types, batch_locations)):\n",
        "        length = len(types)\n",
        "        padded_types[i, :length] = types\n",
        "        padded_locations[i, :length, :] = locs\n",
        "        mask[i, :length] = 1  # Mark valid tokens.\n",
        "    return {'types': padded_types, 'locations': padded_locations, 'mask': mask}"
      ],
      "metadata": {
        "id": "QcMOv2-6pWIK"
      },
      "execution_count": 174,
      "outputs": []
    },
    {
      "cell_type": "markdown",
      "source": [
        "# Model Architecture"
      ],
      "metadata": {
        "id": "aCBpKqe319sE"
      }
    },
    {
      "cell_type": "code",
      "source": [
        "import torch.nn as nn\n",
        "import math\n",
        "\n",
        "class PositionalEncoding(nn.Module):\n",
        "    def __init__(self, d_model, max_len=5000):\n",
        "        super().__init__()\n",
        "        pe = torch.zeros(max_len, d_model)\n",
        "        position = torch.arange(0, max_len, dtype=torch.float).unsqueeze(1)\n",
        "        div_term = torch.exp(torch.arange(0, d_model, 2, dtype=torch.float) *\n",
        "                             (-math.log(10000.0) / d_model))\n",
        "        pe[:, 0::2] = torch.sin(position * div_term)\n",
        "        pe[:, 1::2] = torch.cos(position * div_term)\n",
        "        pe = pe.unsqueeze(0)  # Shape: (1, max_len, d_model)\n",
        "        self.register_buffer('pe', pe)\n",
        "\n",
        "    def forward(self, x):\n",
        "        # x: (batch, seq_len, d_model)\n",
        "        seq_len = x.size(1)\n",
        "        return x + self.pe[:, :seq_len, :]"
      ],
      "metadata": {
        "id": "UhPK7A8MpTRh"
      },
      "execution_count": 175,
      "outputs": []
    },
    {
      "cell_type": "code",
      "source": [
        "import torch.nn as nn\n",
        "\n",
        "class ComponentPredictor(nn.Module):\n",
        "    def __init__(self, num_of_types, embed_dim, num_of_layers, num_of_heads, dropout, max_seq_len):\n",
        "      super().__init__()\n",
        "      self.embed_dim = embed_dim\n",
        "      self.type_embedding = nn.Embedding(num_of_types, embed_dim)\n",
        "      self.coord_embedding = nn.Linear(2, embed_dim)\n",
        "      self.pos_encoding = PositionalEncoding(embed_dim, max_seq_len)\n",
        "\n",
        "      encoder_layer = nn.TransformerEncoderLayer(d_model=embed_dim, nhead=num_of_heads, dropout=dropout)\n",
        "      self.transformer_encoder = nn.TransformerEncoder(encoder_layer, num_layers=num_of_layers)\n",
        "\n",
        "      self.type_head = nn.Linear(embed_dim, num_of_types)\n",
        "      self.coord_head = nn.Linear(embed_dim, 2)\n",
        "\n",
        "    def forward(self, types, locations, src_key_padding_mask=None):\n",
        "        \"\"\"\n",
        "        locations: Tens\n",
        "        types: Tensor of shape (batch, seq_len) -- component type indices.or of shape (batch, seq_len, 2) -- continuous coordinates.\n",
        "        src_key_padding_mask: Boolean mask of shape (batch, seq_len) with True at padded positions.\n",
        "        \"\"\"\n",
        "        # Embed type and location.\n",
        "        type_embeds = self.type_embedding(types)  # (batch, seq_len, embed_dim)\n",
        "        coord_embeds = self.coord_embedding(locations)  # (batch, seq_len, embed_dim)\n",
        "        # Sum the embeddings.\n",
        "        x = type_embeds + coord_embeds\n",
        "        # Add positional encoding.\n",
        "        x = self.pos_encoding(x)\n",
        "        # Transformer expects shape (seq_len, batch, embed_dim).\n",
        "        x = x.transpose(0, 1)\n",
        "        x = self.transformer_encoder(x, src_key_padding_mask=src_key_padding_mask)\n",
        "        x = x.transpose(0, 1)  # Back to (batch, seq_len, embed_dim)\n",
        "        # Compute outputs at each time step.\n",
        "        type_logits = self.type_head(x) # (batch, seq_len, num_types)\n",
        "        loc_pred = self.coord_head(x) # (batch, seq_len, 2)\n",
        "        return type_logits, loc_pred\n",
        ""
      ],
      "metadata": {
        "id": "9wmUJIl52HcG"
      },
      "execution_count": 176,
      "outputs": []
    },
    {
      "cell_type": "markdown",
      "source": [
        "# Training the Model"
      ],
      "metadata": {
        "id": "FVVMwvSxvVrD"
      }
    },
    {
      "cell_type": "code",
      "source": [
        "import torch.optim as optim\n",
        "import torch.nn as nn\n",
        "\n",
        "def train(model, dataloader, optimizer, device):\n",
        "    model.train()\n",
        "    total_loss = 0.0\n",
        "    criterion_type = nn.CrossEntropyLoss()\n",
        "    criterion_loc = nn.MSELoss()\n",
        "    for batch in dataloader:\n",
        "        types = batch['types'].to(device)          # (batch, seq_len)\n",
        "        locations = batch['locations'].to(device)    # (batch, seq_len, 2)\n",
        "        mask = batch['mask'].to(device)              # (batch, seq_len)\n",
        "\n",
        "        # Create input (all tokens except the last) and target (all tokens except the first).\n",
        "        input_types = types[:, :-1]\n",
        "        input_locations = locations[:, :-1]\n",
        "        target_types = types[:, 1:]\n",
        "        target_locations = locations[:, 1:]\n",
        "        input_mask = mask[:, :-1]  # Valid positions in input.\n",
        "\n",
        "        # Transformer expects a src_key_padding_mask where True values indicate positions to mask.\n",
        "        src_key_padding_mask = ~input_mask  # Invert the mask (False for valid tokens).\n",
        "\n",
        "        optimizer.zero_grad()\n",
        "        type_logits, loc_pred = model(input_types, input_locations, src_key_padding_mask=src_key_padding_mask)\n",
        "        # Reshape predictions and targets to compute loss.\n",
        "        loss_type = criterion_type(type_logits.reshape(-1, NUM_COMPONENT_TYPES), target_types.reshape(-1))\n",
        "        loss_loc = criterion_loc(loc_pred.reshape(-1, 2), target_locations.reshape(-1, 2))\n",
        "        loss = loss_type + loss_loc\n",
        "        loss.backward()\n",
        "        optimizer.step()\n",
        "        total_loss += loss.item()\n",
        "    return total_loss / len(dataloader)"
      ],
      "metadata": {
        "id": "MMh4TIgDvYo0"
      },
      "execution_count": 177,
      "outputs": []
    },
    {
      "cell_type": "code",
      "source": [
        "def train_tfa(model, dataloader, optimizer, device):\n",
        "    model.train()\n",
        "    total_loss = 0.0\n",
        "    criterion_type = nn.CrossEntropyLoss()\n",
        "    criterion_loc = nn.MSELoss()\n",
        "    for batch in dataloader:\n",
        "        types = batch['types'].to(device)          # (batch, seq_len)\n",
        "        locations = batch['locations'].to(device)  # (batch, seq_len, 2)\n",
        "        mask = batch['mask'].to(device)            # (batch, seq_len)\n",
        "\n",
        "        optimizer.zero_grad()\n",
        "        batch_loss = 0.0\n",
        "\n",
        "        # Loop through each position in the sequence\n",
        "        for i in range(1, types.size(1)):\n",
        "            input_types = types[:, :i]\n",
        "            input_locations = locations[:, :i]\n",
        "            target_types = types[:, i]\n",
        "            target_locations = locations[:, i]\n",
        "            input_mask = mask[:, :i]\n",
        "\n",
        "            # Transformer expects a src_key_padding_mask where True values indicate positions to mask.\n",
        "            src_key_padding_mask = ~input_mask  # Invert the mask (False for valid tokens).\n",
        "\n",
        "            type_logits, loc_pred = model(input_types, input_locations, src_key_padding_mask=src_key_padding_mask)\n",
        "            # Reshape predictions and targets to compute loss.\n",
        "            loss_type = criterion_type(type_logits[:, -1, :], target_types)\n",
        "            loss_loc = criterion_loc(loc_pred[:, -1, :], target_locations)\n",
        "            loss = loss_type + loss_loc\n",
        "            batch_loss += loss\n",
        "\n",
        "        batch_loss.backward()\n",
        "        optimizer.step()\n",
        "        total_loss += batch_loss.item()\n",
        "    return total_loss / len(dataloader)"
      ],
      "metadata": {
        "id": "bxOmFX88J1iT"
      },
      "execution_count": 178,
      "outputs": []
    },
    {
      "cell_type": "markdown",
      "source": [
        "# Model Training"
      ],
      "metadata": {
        "id": "ogW56qDyy6g7"
      }
    },
    {
      "cell_type": "code",
      "source": [
        "from torch.utils.data import DataLoader\n",
        "from IPython.display import clear_output\n",
        "\n",
        "device = torch.device(\"cuda\" if torch.cuda.is_available() else \"cpu\")\n",
        "\n",
        "model = ComponentPredictor(NUM_COMPONENT_TYPES, EMBED_DIM, NUM_LAYERS, NUM_HEADS, DROPOUT, MAX_SEQ_LEN).to(device)\n",
        "\n",
        "if RETRAIN:\n",
        "  dataset = CustomDataset(extracted_data)\n",
        "  dataloader = DataLoader(dataset, batch_size=2, shuffle=True, collate_fn=collate_fn)\n",
        "  optimizer = optim.Adam(model.parameters(), lr=LEARNING_RATE)\n",
        "  for epoch in range(EPOCHS):\n",
        "      if USE_TEACHER_FORCING:\n",
        "        train_loss = train_tfa(model, dataloader, optimizer, device)\n",
        "      else:\n",
        "        train_loss = train(model, dataloader, optimizer, device)\n",
        "      clear_output(wait=True)  # Clear existing output\n",
        "      print(f\"Epoch {epoch+1}/{EPOCHS}, Train Loss: {train_loss}\")\n",
        "  save_model(model)\n",
        "else:\n",
        "  load_model(model)"
      ],
      "metadata": {
        "colab": {
          "base_uri": "https://localhost:8080/"
        },
        "id": "qjbzfZXwy9Pa",
        "outputId": "4d3f2c0d-56f6-47d8-9ac8-568538f1028c"
      },
      "execution_count": 179,
      "outputs": [
        {
          "output_type": "stream",
          "name": "stdout",
          "text": [
            "Epoch 100/100, Train Loss: 174.14935035705565\n"
          ]
        }
      ]
    },
    {
      "cell_type": "markdown",
      "source": [
        "# Making Predictions"
      ],
      "metadata": {
        "id": "L3qDPdSO5M9r"
      }
    },
    {
      "cell_type": "code",
      "source": [
        "def predict_next(model, initial_types, initial_locations, device):\n",
        "    \"\"\"\n",
        "    Given an initial sequence of components, predict the next component's type and location.\n",
        "    initial_types: Tensor of shape (1, seq_len) on device.\n",
        "    initial_locations: Tensor of shape (1, seq_len, 2) on device.\n",
        "    \"\"\"\n",
        "    model.eval()\n",
        "    with torch.inference_mode():\n",
        "        # No padding in this simple inference case.\n",
        "        type_logits, loc_pred = model(initial_types, initial_locations, src_key_padding_mask=None)\n",
        "        # Retrieve prediction from the last time step.\n",
        "        next_type_logits = type_logits[0, -1]  # (num_types,)\n",
        "        next_loc_pred = loc_pred[0, -1]          # (2,)\n",
        "        next_type = torch.argmax(next_type_logits, dim=-1).item()\n",
        "        next_location = next_loc_pred.cpu().numpy().tolist()\n",
        "    return next_type, next_location"
      ],
      "metadata": {
        "id": "QAyVj00V5Qrj"
      },
      "execution_count": 180,
      "outputs": []
    },
    {
      "cell_type": "code",
      "source": [
        "import matplotlib.pyplot as plt\n",
        "\n",
        "# sample = {'types': [0,1,2], 'locations': [(3.59, -74.86),(15.944,-74.595),(17.404,-75.228)]}\n",
        "sample = {'types': [0,1], 'locations': [(3.59, -74.86),(15.944,-74.595)]}\n",
        "# sample = {'types': [7,1,2,7], 'locations': [(9.66, -89.4806),(10.160,-88.415),(12.225,-88.6817),(17.511,-92.143)]}\n",
        "\n",
        "init_types = torch.tensor(sample['types'], dtype=torch.long).unsqueeze(0).to(device)\n",
        "init_locations = torch.tensor(sample['locations'], dtype=torch.float).unsqueeze(0).to(device)\n",
        "next_type, next_location = predict_next(model, init_types, init_locations, device)\n",
        "print(\"Predicted next component type:\", type_mapping_reverse.get(next_type, \"Unknown Type\"))\n",
        "print(\"Predicted next component location:\", next_location)\n",
        "\n",
        "plt.figure(figsize=(8, 6))\n",
        "\n",
        "# Plot the sample data and add labels\n",
        "sample_locations = sample['locations']\n",
        "sample_x = [loc[0] for loc in sample_locations]\n",
        "sample_y = [loc[1] for loc in sample_locations]\n",
        "sample_types = sample['types']  # Get the types from the sample data\n",
        "\n",
        "for i in range(len(sample_x)):\n",
        "    plt.scatter(sample_x[i], sample_y[i], color='blue')\n",
        "    plt.text(sample_x[i], sample_y[i], type_mapping_reverse.get(sample_types[i], \"Unknown Type\"), ha='center', va='bottom')\n",
        "\n",
        "\n",
        "# Plot the predicted component and add label\n",
        "plt.scatter(next_location[0], next_location[1], color='red')\n",
        "plt.text(next_location[0], next_location[1], type_mapping_reverse.get(next_type, \"Unknown Type\"), ha='center', va='bottom')\n",
        "\n",
        "plt.xlabel(\"X Coordinate\")\n",
        "plt.ylabel(\"Y Coordinate\")\n",
        "plt.title(\"Sample vs Predicted Component Locations\")\n",
        "plt.grid(True)\n",
        "plt.show()"
      ],
      "metadata": {
        "colab": {
          "base_uri": "https://localhost:8080/",
          "height": 599
        },
        "id": "OGxupLgK5iUU",
        "outputId": "299e4772-120d-4955-db7b-de40ce1f4cfb"
      },
      "execution_count": 181,
      "outputs": [
        {
          "output_type": "stream",
          "name": "stdout",
          "text": [
            "Predicted next component type: shackle\n",
            "Predicted next component location: [29.109622955322266, -59.77651596069336]\n"
          ]
        },
        {
          "output_type": "display_data",
          "data": {
            "text/plain": [
              "<Figure size 800x600 with 1 Axes>"
            ],
            "image/png": "[encoded data removed]"
          },
          "metadata": {}
        }
      ]
    }
  ]
}